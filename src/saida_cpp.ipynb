{
 "cells": [
  {
   "cell_type": "code",
   "execution_count": null,
   "id": "1e865c0a",
   "metadata": {},
   "outputs": [
    {
     "name": "stdout",
     "output_type": "stream",
     "text": [
      "Instancia: BHW1\n",
      "#Vertices: 6421320, #Arestas: 2001166510, #Arcos: 512\n",
      "#Vertices requeridos: 2001166510\n",
      "#Arestas requeridas: 0\n",
      "#Arcos requeridos: 0\n",
      "Quantidade de vértices: 12\n",
      "Quantidade de arestas: 11\n",
      "Quantidade de arcos: 22\n",
      "Quantidade de vertices requisitados: 7\n",
      "Quantidade de arestas requisitadas: 11\n",
      "Quantidade de arcos requisitados: 11\n",
      "Densidade do grafo: 0.333333\n",
      "Caminho médio: 16.7121\n",
      "Diâmetro: 30\n",
      "Grau mínimo: 4\n",
      "Grau máximo: 10\n",
      "Intermediação do vértice 1: 18\n",
      "Intermediação do vértice 2: 22\n",
      "Intermediação do vértice 3: 6\n",
      "Intermediação do vértice 4: 0\n",
      "Intermediação do vértice 5: 14\n",
      "Intermediação do vértice 6: 40\n",
      "Intermediação do vértice 7: 24\n",
      "Intermediação do vértice 8: 18\n",
      "Intermediação do vértice 9: 14\n",
      "Intermediação do vértice 10: 6\n",
      "Intermediação do vértice 11: 0\n",
      "Intermediação do vértice 12: 24\n"
     ]
    }
   ],
   "source": []
  }
 ],
 "metadata": {},
 "nbformat": 4,
 "nbformat_minor": 5
}
